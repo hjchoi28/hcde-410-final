{
 "cells": [
  {
   "cell_type": "markdown",
   "id": "3d9e5ee7-db3d-4daf-a1f7-e8312e6af4ce",
   "metadata": {},
   "source": [
    "# Preliminary Project Proposal\n",
    "\n",
    "## Motivation and Problem Statement\n",
    "I plan to create a map visualization of Airbnbs and reported crime in Seattle. From a practical perspective, this can potentially be useful for people who are worried about safety while planning trips or vacations in the Seattle area. However, it is important to note that the presence of crime reports is not a sufficient measure of safety. From a research perspective, I want to learn if how the presence of Airbnbs can affect crime rates or vice versa. For the purpose of this project, I will mostly focus the scope on finding a correlation between the two rather than try to prove causation. As a stretch goal, I would also want to figure out a way to rate the severity of the crime, not just the quantity of the reports.\n",
    "\n",
    "## Data Selected\n",
    "* [SPD Crime Data (2008-present)](https://data.seattle.gov/Public-Safety/SPD-Crime-Data-2008-Present/tazs-3rd5)\n",
    "    * License: Public Domain\n",
    "* [Airbnb Data (skip to Seattle, Washington, United States)](http://insideairbnb.com/get-the-data/)\n",
    "    * License: [Creative Commons Attribution 4.0 International License](https://creativecommons.org/licenses/by/4.0/)\n",
    "\n",
    "For this project, I plan to use two datasets. The first is the SPD crime data from the [Seattle Open Data portal](https://data.seattle.gov/). The SPD crime data has relevant information such as the report time/date, crime against category (i.e. property or society), offense, and location (longitude and latitude). It also contains other data like the offense id, sector, and precint that are less relevant but could be interesting to look at. I would probably check that the offense ids are unique.\n",
    "\n",
    "The second is the data of Airbnb listings, reviews, and neighborhoods in Seattle, WA. The listings data in particular will be useful for map visualizations since it has the location (longitude and latitude), price, reviews, and other identifiers. The Airbnb data only shows quarterly data from the last year, up to March 24th, 2023. Since the SPD crime dataset is very large (17 columns and 1.05M rows), this works well since I plan to only use the data from the past year. There was a change in management systems for the SPD crime data in 2019, but since I will only look at the data in 2022-2023, this should not be an issue.\n",
    "\n",
    "Potential ethical considerations to using this dataset is anonymity and misinterpretation of crime severity. Making visualizations of reported crime in the same neighborhoods as the Airbnb listings might discourage people from booking and affect their reviews. Another consideration is that the data only contains reported crime. Particular types of crime could be underreported, meaning the data is not completely representative of Seattle.\n",
    "\n",
    "## Unknowns and Dependencies\n",
    "One factor that could impact my ability to complete this project is if the Airbnb data were to be updated. I would have to request for the archived data and that could take time that I won't necessarily have. Some other factors are the completeness of the SPD crime data and my limited knowledge of map visualizations in Python. Incomplete data could negatively impact my project and I would need time to learn how to create maps that have the level of detail and customization I need."
   ]
  },
  {
   "cell_type": "markdown",
   "id": "fc1ab889-d9eb-416e-93cb-22bf30bacbce",
   "metadata": {},
   "source": [
    "## Overview and Research Questions\n",
    "The goal of this project is to create a visualization of reported crime and Airbnbs in the Seattle area and confirm the relationship (or lack thereof) between Airbnbs and local crime. The motivation behind this project was to learn and see which Airbnbs are located in low-crime areas so I, and other users, can be more informed about the historic crime rates and consequences of homestay properties in local neighborhoods.\n",
    "\n",
    "**Hypotheses:** There will be more Airbnbs with higher ratings in or near locations with lower rates of reported crime.\n",
    "\n",
    "**Research Questions:**\n",
    "* Which areas have the most and least Airbnbs? Crime rates?\n",
    "* Which areas have the highest and lowest Airbnb ratings?\n",
    "* Which offense types are the most and least frequent?\n",
    "* What is the relationship between Airbnbs and crime rates?\n",
    "\n",
    "## Background and Related Work\n",
    "The effect of homestays has already been researched since the rise of companies like Airbnb. \n",
    "\n",
    "## Methodology\n",
    "**Which areas have the most and least Airbnbs? Crime rates?**\n",
    "To visualize this answer, I plan to create a [choropleth map using the Plotly API](https://plotly.com/python/mapbox-county-choropleth/). I will make sure to keep the dates the same for the Airbnbs and crime rates, and exclude the ones outside of that range.\n",
    "\n",
    "**Which areas have the highest and lowest Airbnb ratings?**\n",
    "To visualize this answer, I plan to create a representation of the ratings using the Plotly API.\n",
    "\n",
    "**Which offense types are the most and least frequent?**\n",
    "I plan to create a [heatmap using matplotlib](https://matplotlib.org/stable/gallery/images_contours_and_fields/image_annotated_heatmap.html) that contains the monthly count of each offense type in the past year in major Seattle areas (variable name MCPP).\n",
    "\n",
    "**What is the relationship between Airbnbs and crime rates?**\n",
    "I will analyze correlation by comparing the Airbnb listings and reported crime.\n",
    "\n",
    "I also plan to use [kepler.gl for Jupyter](https://docs.kepler.gl/docs/keplergl-jupyter) for a more complex, geospatial data visualization. It will allow me to better customize the map to include the number of Airbnbs and its ratings, and the crime rates and its severity."
   ]
  },
  {
   "cell_type": "code",
   "execution_count": null,
   "id": "ed2c47b6-73c8-4c4a-b194-8e188fffdeca",
   "metadata": {},
   "outputs": [],
   "source": []
  }
 ],
 "metadata": {
  "kernelspec": {
   "display_name": "Python 3 (ipykernel)",
   "language": "python",
   "name": "python3"
  },
  "language_info": {
   "codemirror_mode": {
    "name": "ipython",
    "version": 3
   },
   "file_extension": ".py",
   "mimetype": "text/x-python",
   "name": "python",
   "nbconvert_exporter": "python",
   "pygments_lexer": "ipython3",
   "version": "3.9.7"
  }
 },
 "nbformat": 4,
 "nbformat_minor": 5
}
