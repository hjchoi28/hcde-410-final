{
 "cells": [
  {
   "cell_type": "markdown",
   "id": "45b956cb-0329-43fe-bb92-43e53bd165e3",
   "metadata": {},
   "source": [
    "# Final Project Report: Airbnb & Neighborhood Crime\n",
    "*Spring 2023, HCDE 410: Human Data Interation*\n",
    "\n",
    "## Introduction\n",
    "### Motivation and Problem Statement\n",
    "My goal is to be more informed about the consequences of homestay properties in local neighborhoods. For the purpose of this project, I will mostly focus the scope on finding a correlation between Airbnbs and crime reports in Seattle, rather than trying to prove causation. As a stretch goal, I would also want to figure out a way to rate the severity of the crime, not just the quantity of the reports.\n",
    "\n",
    "I plan to create a map visualization of Airbnbs and reported crime in Seattle. At first glance, this can seem useful for people who are worried about safety while planning trips or vacations in the Seattle area. However, it is important to note that the presence of crime reports is not a sufficient measure of safety. The decontextualization of large datasets like the ones used in this project can lead to distorted visualizations. Thus, it is important to be careful and thoughtful when presenting these findings, especially since this topic can instill fear in the public.\n",
    "\n",
    "### Data Selected\n",
    "For this project, I plan to use the following two datasets:\n",
    "* [Seattle Police Department (SPD) Crime Data (2008-present)](https://data.seattle.gov/Public-Safety/SPD-Crime-Data-2008-Present/tazs-3rd5)\n",
    "    * License: Public Domain\n",
    "* [Inside Airbnb (skip to Seattle, Washington, United States)](http://insideairbnb.com/get-the-data/)\n",
    "    * License: [Creative Commons Attribution 4.0 International License](https://creativecommons.org/licenses/by/4.0/)\n",
    "\n",
    "Potential ethical considerations to using these datasets are anonymity and misinterpretation of crime severity. Making visualizations of reported crime in the same neighborhoods as the Airbnb listings might discourage people from booking and affect their reviews. Another consideration is that the data only contains reported crime. Particular types of crime could be underreported, meaning the data is not completely representative of Seattle.\n",
    "\n",
    "### Background and Related Work\n",
    "The effect of homestays has already been researched since the rise of companies like Airbnb. According to a [2021 study about Airbnb and neighborhood crime](https://journals.plos.org/plosone/article?id=10.1371/journal.pone.0253315), their findings support “the notion that the prevalence of Airbnb listings erodes the natural ability of a neighborhood to prevent crime.” A [different study](https://thecrimereport.org/2021/08/06/is-there-a-link-between-airbnb-and-neighborhood-crime-rates/) focused on the different types of Airbnb listings and their correlation with crime. This inspired me to try to find the geospatial correlation between Airbnb clusters and the different types of crime and their severity."
   ]
  },
  {
   "cell_type": "markdown",
   "id": "a9d402bd-380e-4121-8236-898c27b71e76",
   "metadata": {},
   "source": [
    "## Research Questions\n",
    "The goal of this project is to create a visualization of reported crime and Airbnbs in the Seattle area and confirm the relationship (or lack thereof) between Airbnbs and local crime. The motivation behind this project was to learn and see which Airbnbs are located in low-crime areas so I, and other users, can be more informed about the historic crime rates and consequences of homestay properties in local neighborhoods.\n",
    "\n",
    "**Hypotheses:** There will be more Airbnbs with higher ratings in or near locations with lower rates of reported crime.\n",
    "\n",
    "**Research Questions:**\n",
    "* Which areas have the most and least Airbnbs? Crime rates?\n",
    "* Which areas have the highest and lowest Airbnb ratings?\n",
    "* Which offense types are the most and least frequent?\n",
    "* What is the relationship between Airbnbs and crime rates?"
   ]
  },
  {
   "cell_type": "markdown",
   "id": "779f7853-d9e3-4659-bf21-a63176633b46",
   "metadata": {},
   "source": [
    "## Data-Cleaning and Analysis\n",
    "First, I want to import all the necessary Python libraries, such as the [matplotlib](https://matplotlib.org/stable/api/index.html) and [Plotly API](https://plotly.com/python/getting-started/)."
   ]
  },
  {
   "cell_type": "code",
   "execution_count": null,
   "id": "70ade489-492f-4bfe-9714-53f19ce954a3",
   "metadata": {},
   "outputs": [],
   "source": [
    "import pandas as pd\n",
    "import plotly.express as px\n",
    "\n",
    "import numpy as np\n",
    "import matplotlib\n",
    "import matplotlib as mpl\n",
    "import matplotlib.pyplot as plt\n",
    "\n",
    "from urllib.request import urlopen\n",
    "import json\n",
    "import csv"
   ]
  },
  {
   "cell_type": "markdown",
   "id": "3635044d-8a75-45cd-a3eb-5cb033f66d8b",
   "metadata": {},
   "source": [
    "Then, I can start getting the data ready from my two datasets. The following is my process for [\"data wrangling\"](https://en.wikipedia.org/wiki/Data_wrangling), or data munging, to make the raw data easier to work with."
   ]
  },
  {
   "cell_type": "markdown",
   "id": "232e0b7d-c1c8-4336-a85b-260357290374",
   "metadata": {},
   "source": [
    "### [SPD Crime Data (2008-present)](https://data.seattle.gov/Public-Safety/SPD-Crime-Data-2008-Present/tazs-3rd5)\n",
    "* License: Public Domain\n",
    "\n",
    "The *SPD Crime Data* has relevant information such as the report time/date, crime against category (i.e. property or society), offense, and location (longitude and latitude). It also contains other data like the offense id, sector, and precint that are less relevant but could be interesting to look at. There was a change in management systems for the SPD crime data in 2019, but since I will only look at the data in 2022-2023, this should not be an issue.\n",
    "\n",
    "Since the *SPD Crime Data* contains over one million rows and 17 columns of data, the wiser choice is to access the [data via SODA API](https://dev.socrata.com/foundry/data.seattle.gov/tazs-3rd5) rather than downloading csv or tsv files. The [Socrata Open Data (SODA) API](https://dev.socrata.com/) allows you to access open data resources from governments."
   ]
  },
  {
   "cell_type": "code",
   "execution_count": null,
   "id": "3f78e076-b215-4f3a-804a-c13626d0de6d",
   "metadata": {},
   "outputs": [],
   "source": []
  },
  {
   "cell_type": "markdown",
   "id": "9de729fe-e550-430d-bef4-41570c59a2be",
   "metadata": {},
   "source": [
    "### [Inside Airbnb (skip to Seattle, Washington, United States)](http://insideairbnb.com/get-the-data/)\n",
    "* License: [Creative Commons Attribution 4.0 International License](https://creativecommons.org/licenses/by/4.0/)\n",
    "\n",
    "The *Inside Airbnb* dataset contains data of Airbnb listings, reviews, and neighborhoods in Seattle, WA. The listings data in particular will be useful for map visualizations since it has the location (longitude and latitude), price, reviews, and other identifiers. The Airbnb data only shows quarterly data from the last year, up to March 24th, 2023. Since the SPD crime dataset is very large (17 columns and 1.05M rows), this works well since I plan to only use the data from the past year."
   ]
  },
  {
   "cell_type": "code",
   "execution_count": null,
   "id": "394a064f-4225-4e2b-b717-c65f6f8a3ab9",
   "metadata": {},
   "outputs": [],
   "source": [
    "import csv\n",
    "d = {}\n",
    "with open('airbnb_listings.csv', mode='r') as f:\n",
    "    data = csv.reader(f)\n",
    "    d = {rows[0]:rows[17] for rows in data}\n",
    "print(d) "
   ]
  },
  {
   "cell_type": "markdown",
   "id": "92d1d80e-379a-4b4c-a4fe-795a42a8a4a7",
   "metadata": {},
   "source": [
    "## Methodology\n",
    "\n",
    "**Which areas have the most and least Airbnbs? Crime rates?**\n",
    "To visualize this answer, I plan to create a [choropleth map using the Plotly API](https://plotly.com/python/mapbox-county-choropleth/). I will make sure to keep the dates the same for the Airbnbs and crime rates, and exclude the ones outside of that range.\n",
    "\n",
    "**Which areas have the highest and lowest Airbnb ratings?**\n",
    "To visualize this answer, I plan to create a representation of the ratings using the Plotly API.\n",
    "\n",
    "**Which offense types are the most and least frequent?**\n",
    "I plan to create a [heatmap using matplotlib](https://matplotlib.org/stable/gallery/images_contours_and_fields/image_annotated_heatmap.html) that contains the monthly count of each offense type in the past year in major Seattle areas (variable name MCPP).\n",
    "\n",
    "**What is the relationship between Airbnbs and crime rates?**\n",
    "I will analyze correlation by comparing the Airbnb listings and reported crime.\n",
    "\n",
    "I also plan to use [kepler.gl for Jupyter](https://docs.kepler.gl/docs/keplergl-jupyter) for a more complex, geospatial data visualization. It will allow me to better customize the map to include the number of Airbnbs and its ratings, and the crime rates and its severity."
   ]
  },
  {
   "cell_type": "markdown",
   "id": "69af05fb-8392-45c3-a47d-9f0127634dd7",
   "metadata": {},
   "source": [
    "## Findings"
   ]
  },
  {
   "cell_type": "markdown",
   "id": "00c30001-f4bb-48cb-b5ea-392b166a810c",
   "metadata": {},
   "source": [
    "## Discussion\n",
    "### Limitations and Implications"
   ]
  },
  {
   "cell_type": "markdown",
   "id": "6ce2537c-192d-4666-a79e-d7160190d69d",
   "metadata": {},
   "source": [
    "## Conclusion"
   ]
  }
 ],
 "metadata": {
  "kernelspec": {
   "display_name": "Python 3 (ipykernel)",
   "language": "python",
   "name": "python3"
  },
  "language_info": {
   "codemirror_mode": {
    "name": "ipython",
    "version": 3
   },
   "file_extension": ".py",
   "mimetype": "text/x-python",
   "name": "python",
   "nbconvert_exporter": "python",
   "pygments_lexer": "ipython3",
   "version": "3.9.7"
  }
 },
 "nbformat": 4,
 "nbformat_minor": 5
}
