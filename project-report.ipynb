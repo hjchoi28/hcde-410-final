{
 "cells": [
  {
   "cell_type": "markdown",
   "id": "45b956cb-0329-43fe-bb92-43e53bd165e3",
   "metadata": {},
   "source": [
    "# Final Project Report: Airbnb & Neighborhood Crime\n",
    "*Spring 2023, HCDE 410: Human Data Interation*\n",
    "\n",
    "## Introduction\n",
    "### Motivation and Problem Statement\n",
    "My goal is to be more informed about the consequences of homestay properties in local neighborhoods. For the purpose of this project, I will mostly focus the scope on finding a correlation between Airbnbs and crime reports in Seattle, rather than trying to prove causation. As a stretch goal, I would also want to figure out a way to rate the severity of the crime, not just the quantity of the reports.\n",
    "\n",
    "I plan to create a map visualization of Airbnbs and reported crime in Seattle. At first glance, this can seem useful for people who are worried about safety while planning trips or vacations in the Seattle area. However, it is important to note that the presence of crime reports is not a sufficient measure of safety. The decontextualization of large datasets like the ones used in this project can lead to distorted visualizations. Thus, it is important to be careful and thoughtful when presenting these findings, especially since this topic can instill fear in the public.\n",
    "\n",
    "### Data Selected\n",
    "For this project, I plan to use the following two datasets:\n",
    "* [Seattle Police Department (SPD) Crime Data (2008-present)](https://data.seattle.gov/Public-Safety/SPD-Crime-Data-2008-Present/tazs-3rd5)\n",
    "    * License: Public Domain\n",
    "* [Inside Airbnb (skip to Seattle, Washington, United States)](http://insideairbnb.com/get-the-data/)\n",
    "    * License: [Creative Commons Attribution 4.0 International License](https://creativecommons.org/licenses/by/4.0/)\n",
    "\n",
    "Potential ethical considerations to using these datasets are anonymity and misinterpretation of crime severity. Making visualizations of reported crime in the same neighborhoods as the Airbnb listings might discourage people from booking and affect their reviews. Another consideration is that the data only contains reported crime. Particular types of crime could be underreported, meaning the data is not completely representative of Seattle.\n",
    "\n",
    "### Background and Related Work\n",
    "The effect of homestays has already been researched since the rise of companies like Airbnb. According to a [2021 study about Airbnb and neighborhood crime](https://journals.plos.org/plosone/article?id=10.1371/journal.pone.0253315), their findings support “the notion that the prevalence of Airbnb listings erodes the natural ability of a neighborhood to prevent crime.” A [different study](https://thecrimereport.org/2021/08/06/is-there-a-link-between-airbnb-and-neighborhood-crime-rates/) focused on the different types of Airbnb listings and their correlation with crime. This inspired me to try to find the geospatial correlation between Airbnb clusters and the different types of crime and their severity."
   ]
  },
  {
   "cell_type": "markdown",
   "id": "a9d402bd-380e-4121-8236-898c27b71e76",
   "metadata": {},
   "source": [
    "## Research Questions\n",
    "The goal of this project is to create a visualization of reported crime and Airbnbs in the Seattle area and confirm the relationship (or lack thereof) between Airbnbs and local crime. The motivation behind this project was to learn and see which Airbnbs are located in low-crime areas so I, and other users, can be more informed about the historic crime rates and consequences of homestay properties in local neighborhoods.\n",
    "\n",
    "**Hypotheses:** There will be more Airbnbs with higher ratings in or near locations with lower rates of reported crime.\n",
    "\n",
    "**Research Questions:**\n",
    "* Which areas have the most and least Airbnbs? Crime rates?\n",
    "* Which areas have the highest and lowest Airbnb ratings?\n",
    "* Which offense types are the most and least frequent?\n",
    "* What is the relationship between Airbnbs and crime rates?"
   ]
  },
  {
   "cell_type": "markdown",
   "id": "779f7853-d9e3-4659-bf21-a63176633b46",
   "metadata": {},
   "source": [
    "## Data-Cleaning and Analysis\n",
    "First, I want to import all the necessary Python libraries, such as the [matplotlib](https://matplotlib.org/stable/api/index.html), [Plotly API](https://plotly.com/python/getting-started/), and more."
   ]
  },
  {
   "cell_type": "code",
   "execution_count": 2,
   "id": "70ade489-492f-4bfe-9714-53f19ce954a3",
   "metadata": {},
   "outputs": [],
   "source": [
    "# for data analysis\n",
    "import pandas as pd\n",
    "import plotly.express as px\n",
    "\n",
    "import numpy as np\n",
    "import matplotlib\n",
    "import matplotlib as mpl\n",
    "import matplotlib.pyplot as plt\n",
    "\n",
    "# for data-cleaning\n",
    "import json\n",
    "import csv\n",
    "import requests\n",
    "from pprint import pprint"
   ]
  },
  {
   "cell_type": "markdown",
   "id": "3635044d-8a75-45cd-a3eb-5cb033f66d8b",
   "metadata": {},
   "source": [
    "Then, I can start getting the data ready from my two datasets. The following is my process for [\"data wrangling\"](https://en.wikipedia.org/wiki/Data_wrangling), or data munging, to make the raw data easier to work with."
   ]
  },
  {
   "cell_type": "markdown",
   "id": "232e0b7d-c1c8-4336-a85b-260357290374",
   "metadata": {},
   "source": [
    "### [SPD Crime Data (2008-present)](https://data.seattle.gov/Public-Safety/SPD-Crime-Data-2008-Present/tazs-3rd5)\n",
    "* License: Public Domain\n",
    "\n",
    "The *SPD Crime Data* has relevant information such as the report time/date, crime against category (i.e. property or society), offense, and location (longitude and latitude). It also contains other data like the offense id, sector, and precint that are less relevant but could be interesting to look at. There was a change in management systems for the SPD crime data in 2019, but since I will only look at the data in 2022-2023, this should not be an issue.\n",
    "\n",
    "Since the *SPD Crime Data* contains over one million rows and 17 columns of data, the wiser choice is to access the [data via SODA API](https://dev.socrata.com/foundry/data.seattle.gov/tazs-3rd5) rather than downloading csv or tsv files. The [Socrata Open Data (SODA) API](https://dev.socrata.com/) allows you to access open data resources from governments."
   ]
  },
  {
   "cell_type": "code",
   "execution_count": 14,
   "id": "3f78e076-b215-4f3a-804a-c13626d0de6d",
   "metadata": {},
   "outputs": [
    {
     "name": "stdout",
     "output_type": "stream",
     "text": [
      "'https://data.seattle.gov/resource/tazs-3rd5.json?%24select=report_datetime%2Coffense_start_datetime%2Ccrime_against_category%2Coffense_parent_group%2Coffense%2Cmcpp%2Clongitude%2Clatitude&%24order=report_datetime+DESC&%24limit=100000'\n",
      "[{'crime_against_category': 'PROPERTY',\n",
      "  'latitude': '0.000000000',\n",
      "  'longitude': '0.000000000',\n",
      "  'mcpp': 'GREENWOOD',\n",
      "  'offense': 'Stolen Property Offenses',\n",
      "  'offense_parent_group': 'STOLEN PROPERTY OFFENSES',\n",
      "  'offense_start_datetime': '2023-06-03T15:28:00.000',\n",
      "  'report_datetime': '2023-06-03T20:11:39.000'},\n",
      " {'crime_against_category': 'SOCIETY',\n",
      "  'latitude': '0.000000000',\n",
      "  'longitude': '0.000000000',\n",
      "  'mcpp': 'GREENWOOD',\n",
      "  'offense': 'Driving Under the Influence',\n",
      "  'offense_parent_group': 'DRIVING UNDER THE INFLUENCE',\n",
      "  'offense_start_datetime': '2023-06-03T15:28:00.000',\n",
      "  'report_datetime': '2023-06-03T20:11:39.000'},\n",
      " {'crime_against_category': 'PERSON',\n",
      "  'latitude': '47.717364080',\n",
      "  'longitude': '-122.284603421',\n",
      "  'mcpp': 'LAKECITY',\n",
      "  'offense': 'Aggravated Assault',\n",
      "  'offense_parent_group': 'ASSAULT OFFENSES',\n",
      "  'offense_start_datetime': '2023-06-03T16:44:00.000',\n",
      "  'report_datetime': '2023-06-03T19:24:46.000'},\n",
      " {'crime_against_category': 'PERSON',\n",
      "  'latitude': '47.553444080',\n",
      "  'longitude': '-122.287586466',\n",
      "  'mcpp': 'COLUMBIA CITY',\n",
      "  'offense': 'Intimidation',\n",
      "  'offense_parent_group': 'ASSAULT OFFENSES',\n",
      "  'offense_start_datetime': '2023-06-02T21:45:00.000',\n",
      "  'report_datetime': '2023-06-03T19:19:08.000'},\n",
      " {'crime_against_category': 'PERSON',\n",
      "  'latitude': '47.631914350',\n",
      "  'longitude': '-122.315233607',\n",
      "  'mcpp': 'CAPITOL HILL',\n",
      "  'offense': 'Intimidation',\n",
      "  'offense_parent_group': 'ASSAULT OFFENSES',\n",
      "  'offense_start_datetime': '2023-06-03T17:20:00.000',\n",
      "  'report_datetime': '2023-06-03T18:09:47.000'}]\n"
     ]
    }
   ],
   "source": [
    "# save the API endpoint. This is the base URL for all API requests for the SPD Crime Data\n",
    "spd_endpoint = \"https://data.seattle.gov/resource/tazs-3rd5.json\"\n",
    "\n",
    "#specify some parameters (filtering the data so we only get the parts we want)\n",
    "spd_api_params = {\n",
    "\"$select\" : \"report_datetime,offense_start_datetime,crime_against_category,offense_parent_group,offense,mcpp,longitude,latitude\",\n",
    "\"$order\" : \"report_datetime DESC\",\n",
    "\"$limit\" : \"100000\",\n",
    "}\n",
    "\n",
    "spd_request = requests.get(spd_endpoint, params=spd_api_params)\n",
    "spd_raw_data = spd_request.json()\n",
    "\n",
    "pprint(spd_request.url) #you can still print out the full URL you sent to the API, to help debug\n",
    "pprint(spd_raw_data[0:5])#print out the first 5 items to check our work"
   ]
  },
  {
   "cell_type": "markdown",
   "id": "a5a5dabe-ef23-4f3d-8509-ba9b2cb1d86f",
   "metadata": {},
   "source": [
    "I chose the following parameters since they are relevant to creating map visualizations or understanding the crime type and timeline.\n",
    "\n",
    "* ***offense_start_datetime***: the date and time for the start of the offense\n",
    "* ***report_datetime***: the date and time for when the offense was reported\n",
    "* ***crimes_against_category***: the corresponding crimes against category (person, property, society)\n",
    "* ***offense_parent_group***: the corresponding offense parent group (i.e. the \"hacking/computer invasion\" offense is under the \"fraud offenses\" parent group\n",
    "* ***offense***: the corresponding offense\n",
    "* ***mcpp***: the Micro-Community Policing Plans (MCPP) boundary where offense occured\n",
    "* ***latitude*** & ***longitude***: the geographic coordinates\n",
    "\n",
    "\n",
    "Additionally, according to the [metadata for the SPD Crime dataset](SPD_DSG_OFFENSE_METADATA.pdf), the *report_datetime* isn't always the same as date as the *offense_start_datetime*. While it would be more accurate to use the *offense_start_datetime* parameter when trying to determine the timeline of neighborhood crime, it is better to use the *report_datetime* since some of the data points are missing the start date. For example, the results below show that *offense_start_datetime* was not recorded for some offense reports despite both parameters being selected."
   ]
  },
  {
   "cell_type": "code",
   "execution_count": 4,
   "id": "9e9cf7e5-e9ef-48cf-8a6f-de010ceb6709",
   "metadata": {},
   "outputs": [
    {
     "name": "stdout",
     "output_type": "stream",
     "text": [
      "[{'report_datetime': '2020-02-21T12:16:10.000'},\n",
      " {'report_datetime': '2020-02-19T17:41:37.000'},\n",
      " {'report_datetime': '2020-02-18T22:31:24.000'},\n",
      " {'report_datetime': '2020-02-18T16:58:21.000'},\n",
      " {'report_datetime': '2020-02-17T18:49:40.000'},\n",
      " {'report_datetime': '2020-02-17T18:49:40.000'},\n",
      " {'report_datetime': '2020-02-17T11:23:49.000'},\n",
      " {'offense_start_datetime': '2023-06-03T17:20:00.000',\n",
      "  'report_datetime': '2023-06-03T18:09:47.000'},\n",
      " {'offense_start_datetime': '2023-06-03T17:20:00.000',\n",
      "  'report_datetime': '2023-06-03T18:09:47.000'},\n",
      " {'offense_start_datetime': '2023-06-03T16:44:00.000',\n",
      "  'report_datetime': '2023-06-03T19:24:46.000'}]\n"
     ]
    }
   ],
   "source": [
    "test_params = {\n",
    "\"$select\" : \"report_datetime,offense_start_datetime\",\n",
    "\"$order\" : \"offense_start_datetime DESC\",\n",
    "\"$limit\" : \"10000\",\n",
    "}\n",
    "\n",
    "test_request = requests.get(spd_endpoint, params=test_params)\n",
    "test_data = test_request.json()\n",
    "\n",
    "pprint(test_data[1325:1335])"
   ]
  },
  {
   "cell_type": "markdown",
   "id": "9de729fe-e550-430d-bef4-41570c59a2be",
   "metadata": {},
   "source": [
    "### [Inside Airbnb (skip to Seattle, Washington, United States)](http://insideairbnb.com/get-the-data/)\n",
    "* License: [Creative Commons Attribution 4.0 International License](https://creativecommons.org/licenses/by/4.0/)\n",
    "\n",
    "The *Inside Airbnb* dataset contains data of Airbnb listings and neighborhoods in Seattle, WA. The listings data in particular will be useful for map visualizations since it has the location (longitude and latitude), price, reviews, and other identifiers. The Airbnb data shows quarterly data from the last year, up to March 24th, 2023. They also have a list of the neighborhoods in Seattle to aid with map visualizations.\n",
    "\n",
    "Unlike the SPD Crime Data, the Airbnb dataset can only be exported as a csv file. The following code prepares the dataset by turning the csv file into a dictionary."
   ]
  },
  {
   "cell_type": "code",
   "execution_count": 5,
   "id": "394a064f-4225-4e2b-b717-c65f6f8a3ab9",
   "metadata": {},
   "outputs": [],
   "source": [
    "def prepare_dataset(file_path):\n",
    "    \"\"\" \n",
    "    Accepts: path to a comma-separated plaintext file\n",
    "    Returns: a list containing a dictionary for every row in the file, \n",
    "        with the file column headers as keys\n",
    "    \"\"\"\n",
    "    \n",
    "    with open(file_path) as infile:\n",
    "        reader = csv.DictReader(infile, delimiter=',')\n",
    "        list_of_dicts = [dict(r) for r in reader]\n",
    "        \n",
    "    return list_of_dicts"
   ]
  },
  {
   "cell_type": "markdown",
   "id": "1a520a44-5221-497e-ae1d-a6b3815c6185",
   "metadata": {},
   "source": [
    "Now, I can prepare both the [Airbnb listings](airbnb_listings.csv) and the [Seattle neighborhoods](neighbourhoods.csv) csv files."
   ]
  },
  {
   "cell_type": "code",
   "execution_count": 6,
   "id": "642bccf0-b91e-4bb6-8f6e-177850d50365",
   "metadata": {},
   "outputs": [
    {
     "name": "stdout",
     "output_type": "stream",
     "text": [
      "[{'availability_365': '247',\n",
      "  'calculated_host_listings_count': '2',\n",
      "  'host_id': '287172',\n",
      "  'host_name': 'Laura',\n",
      "  'id': '879181',\n",
      "  'last_review': '2022-12-16',\n",
      "  'latitude': '47.60096',\n",
      "  'license': 'STR-OPLI-19-002301',\n",
      "  'longitude': '-122.3019',\n",
      "  'minimum_nights': '30',\n",
      "  'name': \"In Jimi Hendrix's neighborhood 3\",\n",
      "  'neighbourhood': 'Atlantic',\n",
      "  'neighbourhood_group': 'Central Area',\n",
      "  'number_of_reviews': '99',\n",
      "  'number_of_reviews_ltm': '4',\n",
      "  'price': '53',\n",
      "  'reviews_per_month': '0.80',\n",
      "  'room_type': 'Private room'},\n",
      " {'availability_365': '99',\n",
      "  'calculated_host_listings_count': '3',\n",
      "  'host_id': '14942',\n",
      "  'host_name': 'Joyce',\n",
      "  'id': '6606',\n",
      "  'last_review': '2022-09-03',\n",
      "  'latitude': '47.65444',\n",
      "  'license': 'str-opli-19-002622',\n",
      "  'longitude': '-122.33629',\n",
      "  'minimum_nights': '30',\n",
      "  'name': 'Fab, private seattle urban cottage!',\n",
      "  'neighbourhood': 'Wallingford',\n",
      "  'neighbourhood_group': 'Other neighborhoods',\n",
      "  'number_of_reviews': '159',\n",
      "  'number_of_reviews_ltm': '2',\n",
      "  'price': '99',\n",
      "  'reviews_per_month': '0.95',\n",
      "  'room_type': 'Entire home/apt'},\n",
      " {'availability_365': '206',\n",
      "  'calculated_host_listings_count': '5',\n",
      "  'host_id': '3264544',\n",
      "  'host_name': 'Fabio',\n",
      "  'id': '902609',\n",
      "  'last_review': '2023-03-21',\n",
      "  'latitude': '47.52383',\n",
      "  'license': 'STR-OPLI-19-002360',\n",
      "  'longitude': '-122.35287',\n",
      "  'minimum_nights': '2',\n",
      "  'name': 'Entire guest suite in West Seattle',\n",
      "  'neighbourhood': 'Highland Park',\n",
      "  'neighbourhood_group': 'Delridge',\n",
      "  'number_of_reviews': '238',\n",
      "  'number_of_reviews_ltm': '27',\n",
      "  'price': '70',\n",
      "  'reviews_per_month': '1.95',\n",
      "  'room_type': 'Entire home/apt'}]\n"
     ]
    }
   ],
   "source": [
    "abnb_raw_data = prepare_dataset(\"airbnb_listings.csv\")\n",
    "pprint(abnb_raw_data[0:3]) #print out the first 3 to check the structure"
   ]
  },
  {
   "cell_type": "markdown",
   "id": "3c6163ee-f2b8-4639-a205-dc12c56e1d50",
   "metadata": {},
   "source": [
    "#### Neighborhood Data\n",
    "According to *Inside Airbnb*, the neighborhood data is from city or open source GIS (geographic information systems) files. This dataset contains two columns, one is the neighborhood while the other is the neighborhood group that the first belongs in."
   ]
  },
  {
   "cell_type": "code",
   "execution_count": 7,
   "id": "aa26fcd4-4903-4d83-aeb7-41207ce2b9e4",
   "metadata": {},
   "outputs": [
    {
     "name": "stdout",
     "output_type": "stream",
     "text": [
      "[{'neighbourhood': 'Adams', 'neighbourhood_group': 'Ballard'},\n",
      " {'neighbourhood': 'Loyal Heights', 'neighbourhood_group': 'Ballard'},\n",
      " {'neighbourhood': 'Sunset Hill', 'neighbourhood_group': 'Ballard'},\n",
      " {'neighbourhood': 'West Woodland', 'neighbourhood_group': 'Ballard'},\n",
      " {'neighbourhood': 'Whittier Heights', 'neighbourhood_group': 'Ballard'}]\n"
     ]
    }
   ],
   "source": [
    "n_data = prepare_dataset(\"neighbourhoods.csv\")\n",
    "pprint(n_data[0:5]) #print out first 5 to check work"
   ]
  },
  {
   "cell_type": "markdown",
   "id": "9c5428ec-a555-49bc-aec0-e971d4329860",
   "metadata": {},
   "source": [
    "Now that the dataset is prepared, we can check the number of neighborhoods in Seattle and the overarching neighborhood groups. These groups can then be compared with the MCPP of the SPD Crime Data, which is necessary to answer the research questions about the clusters of Airbnbs and crime in given locations."
   ]
  },
  {
   "cell_type": "code",
   "execution_count": 8,
   "id": "adf2b189-0bdc-488f-b9b8-b5ef45ab44a9",
   "metadata": {},
   "outputs": [
    {
     "name": "stdout",
     "output_type": "stream",
     "text": [
      "There are 90 neighborhoods in Seattle, WA.\n"
     ]
    }
   ],
   "source": [
    "print(\"There are \" + str(len(n_data)) + \" neighborhoods in Seattle, WA.\")"
   ]
  },
  {
   "cell_type": "code",
   "execution_count": 9,
   "id": "0218f2b2-1dc1-4059-9441-be29501fa1be",
   "metadata": {},
   "outputs": [
    {
     "name": "stdout",
     "output_type": "stream",
     "text": [
      "There are 17 neighborhood groups in Seattle, WA.\n",
      "['Ballard', 'Beacon Hill', 'Capitol Hill', 'Cascade', 'Central Area', 'Delridge', 'Downtown', 'Interbay', 'Lake City', 'Magnolia', 'Northgate', 'Other neighborhoods', 'Queen Anne', 'Rainier Valley', 'Seward Park', 'University District', 'West Seattle']\n"
     ]
    }
   ],
   "source": [
    "ngroups = []\n",
    "for n in n_data:\n",
    "    if n['neighbourhood_group'] not in ngroups:\n",
    "        ngroups.append(n['neighbourhood_group'])\n",
    "print(\"There are \" + str(len(ngroups)) + \" neighborhood groups in Seattle, WA.\")\n",
    "print(ngroups)"
   ]
  },
  {
   "cell_type": "markdown",
   "id": "52b46f5b-c77a-4eb0-8ab0-bac92175a4f9",
   "metadata": {},
   "source": [
    "### Comparing Datasets: Neighborhoods\n",
    "Both the *SPD Crime Data* and the *Inside Airbnb* datasets contain the geographic coordinates of each data point. However, they both also have pre-categorized groups to define neighborhoods. If these groups align, it can be beneficial in creating tabular representations and defining specific shared areas of interest. Thus, the following code compares the geospatial categories in each dataset.\n",
    "\n",
    "Since I already got the Airbnb neighborhood groups (*ngroups*) from the previous section, all we need is to compare this list with the mcpp of the *SPD Crime Data*. It's also important to remember that Python is case-sensitive. This can be resolved by using methods such as <code>.upper()</code>, <code>.lower()</code>, and <code>.capitalize()</code>."
   ]
  },
  {
   "cell_type": "code",
   "execution_count": 48,
   "id": "f93ab788-bee5-4a3f-825c-28b9bf088287",
   "metadata": {},
   "outputs": [
    {
     "name": "stdout",
     "output_type": "stream",
     "text": [
      "['GREENWOOD', 'LAKECITY', 'COLUMBIA CITY', 'CAPITOL HILL', 'SODO', 'SLU/CASCADE', 'PIONEER SQUARE', 'BALLARD NORTH', 'BALLARD SOUTH', 'GEORGETOWN', 'DOWNTOWN COMMERCIAL', 'COMMERCIAL DUWAMISH', 'PHINNEY RIDGE', 'FIRST HILL', 'CLAREMONT/RAINIER VISTA', 'SANDPOINT', 'BELLTOWN', 'CENTRAL AREA/SQUIRE PARK', 'CHINATOWN/INTERNATIONAL DISTRICT', 'WALLINGFORD', 'JUDKINS PARK/NORTH BEACON HILL', 'ALKI', 'QUEEN ANNE', 'NORTH ADMIRAL', 'MAGNOLIA', 'UNIVERSITY', 'ROOSEVELT/RAVENNA', 'COMMERCIAL HARBOR ISLAND', 'NORTH DELRIDGE', 'MORGAN', 'ROXHILL/WESTWOOD/ARBOR HEIGHTS', 'FREMONT', 'NORTHGATE', 'RAINIER BEACH', 'HILLMAN CITY', 'MADRONA/LESCHI', 'HIGHLAND PARK', 'BRIGHTON/DUNLAP', 'BITTERLAKE', 'SOUTH PARK', 'NORTH BEACON HILL', 'ALASKA JUNCTION', 'PIGEON POINT', 'UNKNOWN', 'MONTLAKE/PORTAGE BAY', 'HIGH POINT', 'EASTLAKE - WEST', 'MILLER PARK', 'MOUNT BAKER', 'NEW HOLLY', 'LAKEWOOD/SEWARD PARK', 'MID BEACON HILL', 'RAINIER VIEW', 'EASTLAKE - EAST', 'FAUNTLEROY SW', 'MADISON PARK', 'SOUTH BEACON HILL', 'GENESEE', 'SOUTH DELRIDGE', 'NULL', '<Null>', 'CAPTIOL HILL']\n",
      "False\n"
     ]
    }
   ],
   "source": [
    "mcpp = []\n",
    "for report in spd_raw_data:\n",
    "    if report['mcpp'] not in mcpp:\n",
    "        mcpp.append(report[\"mcpp\"])\n",
    "print(mcpp)\n",
    "print(mcpp == ngroups) #compare the two lists"
   ]
  },
  {
   "cell_type": "markdown",
   "id": "28a0df96-fb6b-4106-9c4b-920b91086f18",
   "metadata": {},
   "source": [
    "From comparing the two lists (*mcpp* and *ngroups*), it is confirmed that they do not match. So, the next step is to find what items do not match."
   ]
  },
  {
   "cell_type": "code",
   "execution_count": 54,
   "id": "7675517f-c64f-4661-a12d-51808316dba2",
   "metadata": {},
   "outputs": [
    {
     "name": "stdout",
     "output_type": "stream",
     "text": [
      "['BALLARD', 'BEACON HILL', 'CASCADE', 'CENTRAL AREA', 'DELRIDGE', 'DOWNTOWN', 'INTERBAY', 'LAKE CITY', 'OTHER NEIGHBORHOODS', 'RAINIER VALLEY', 'SEWARD PARK', 'UNIVERSITY DISTRICT', 'WEST SEATTLE']\n"
     ]
    }
   ],
   "source": [
    "non_match = []\n",
    "for area in ngroups:\n",
    "    if area.upper() not in mcpp:\n",
    "        non_match.append(area.upper())\n",
    "print(non_match)"
   ]
  },
  {
   "cell_type": "markdown",
   "id": "adbc82c8-8066-4e72-9dee-d8ecc62c80f1",
   "metadata": {},
   "source": [
    "By comparing the *non_match* areas with the ones in the mcpp, I can identify some small differences such as 'UNIVERSITY' versus 'UNIVERSITY DISTRICT' that resulted in the non matches. Since the two lists are small, I can manually recategorize some areas to be more broad (i.e. 'MID BEACON HILL', 'SOUTH BEACON HILL', and 'NORTH BEACON HILL' will all be considered 'BEACON HILL'), then write code to update the areas in the corresponding dictionaries. However, there are also values such as 'NULL' that indicate there is missing data. Thus, I will stop here for comparing neighborhoods since incomplete data may skew or misrepresent any findings."
   ]
  },
  {
   "cell_type": "markdown",
   "id": "ee6e7f8f-fcba-433d-b637-5fa4d2434640",
   "metadata": {},
   "source": [
    "### Comparing Datasets: 2022-2023 Timeline\n",
    "Both the *SPD Crime Data* and the *Inside Airbnb* datasets contain several years worth of data. However, for this project, I want to focus on the reports and listings from 2022. I need to clean up both datasets to match the desired timeline. This will make it possible to compare the two datasets."
   ]
  },
  {
   "cell_type": "markdown",
   "id": "5f75f0db-334b-4a23-b2ab-74de6978b8e7",
   "metadata": {},
   "source": [
    "For the ***SPD Crime Data***, I need to further clean the data by slicing the datetimes and only including the reports made between 2022-01-01 and 2022-12-31."
   ]
  },
  {
   "cell_type": "code",
   "execution_count": 28,
   "id": "312da059-7894-4bf4-a5e2-f4e57ecf06d8",
   "metadata": {},
   "outputs": [
    {
     "name": "stdout",
     "output_type": "stream",
     "text": [
      "[{'crime_against_category': 'PERSON',\n",
      "  'latitude': '0.000000000',\n",
      "  'longitude': '0.000000000',\n",
      "  'mcpp': 'BELLTOWN',\n",
      "  'offense': 'Aggravated Assault',\n",
      "  'offense_parent_group': 'ASSAULT OFFENSES',\n",
      "  'offense_start_datetime': '2022-12-31T21:05:00.000',\n",
      "  'report_datetime': '2022-12-31T23:49:41.000'},\n",
      " {'crime_against_category': 'PERSON',\n",
      "  'latitude': '47.560884110',\n",
      "  'longitude': '-122.295893675',\n",
      "  'mcpp': 'MID BEACON HILL',\n",
      "  'offense': 'Simple Assault',\n",
      "  'offense_parent_group': 'ASSAULT OFFENSES',\n",
      "  'offense_start_datetime': '2022-12-31T22:05:00.000',\n",
      "  'report_datetime': '2022-12-31T23:19:51.000'},\n",
      " {'crime_against_category': 'PERSON',\n",
      "  'latitude': '47.619219550',\n",
      "  'longitude': '-122.325936739',\n",
      "  'mcpp': 'CAPITOL HILL',\n",
      "  'offense': 'Intimidation',\n",
      "  'offense_parent_group': 'ASSAULT OFFENSES',\n",
      "  'offense_start_datetime': '2022-12-31T21:33:00.000',\n",
      "  'report_datetime': '2022-12-31T23:19:14.000'}]\n",
      "There is a total of 71646 crime reports in 2022\n"
     ]
    }
   ],
   "source": [
    "spd_data_22 = []\n",
    "for report in spd_raw_data:\n",
    "    year = int(report[\"report_datetime\"][0:4])\n",
    "    if year > 2021 and year < 2023:\n",
    "        spd_data_22.append(report)\n",
    "pprint(spd_data_22[0:3])\n",
    "print(\"There is a total of \" + str(len(spd_data_22)) + \" crime reports in 2022\")"
   ]
  },
  {
   "cell_type": "markdown",
   "id": "39062945-b8d2-4fdf-b74d-206e9d8b0193",
   "metadata": {},
   "source": [
    "For the ***Inside Airbnb*** dataset, the current *abnb_raw_data* dictionary from the *airbnb_listings.csv* only contains the datetime of the last review. Since hosts may forget to update or remove thier listing, the date of the last review can be helpful in making sure the Airbnb is still in use. The current datasets are a snapshot of the Airbnb listings from March 24, 2023 so any listings removed before that time do not appear in this dataset. Although the *abnb_raw_data* dictionary is valuable for analyzing Airbnb clusters, I needed the more [detailed listings data](http://data.insideairbnb.com/united-states/wa/seattle/2023-03-24/data/listings.csv.gz), which also contained the *host_since* datetimes. Unlike the general listings data, this detailed data is much larger. Thus, I downloaded the file, sorted by the *host_since* datetimes, and deleted the rows of data outside of 2022. The result is the [*airbnb_detailed_listings_22_23.csv*](airbnb_detailed_listings_22_23.csv) file."
   ]
  },
  {
   "cell_type": "code",
   "execution_count": 27,
   "id": "b08b54b8-177f-4964-b946-16a30b095890",
   "metadata": {},
   "outputs": [
    {
     "name": "stdout",
     "output_type": "stream",
     "text": [
      "There are a total of 457 current hosts who started hosting in 2022 as of March 24, 2023.\n"
     ]
    }
   ],
   "source": [
    "abnb_detailed_data = prepare_dataset(\"airbnb_detailed_listings_22_23.csv\")\n",
    "abnb_data_22 = []\n",
    "for listing in abnb_detailed_data:\n",
    "    year = int(listing[\"host_since\"][-2:])\n",
    "    if year > 21 and year < 23:\n",
    "        abnb_data_22.append(listing)\n",
    "\n",
    "print(\"There are a total of \" + str(len(abnb_data_22)) + \" current hosts who started hosting in 2022 as of March 24, 2023.\")\n",
    "#uncomment the following line to see what a single detailed listing includes\n",
    "#pprint(abnb_data_22[0])"
   ]
  },
  {
   "cell_type": "markdown",
   "id": "a8e27853-5b46-4c79-a8b2-81d569f14e60",
   "metadata": {},
   "source": [
    "The *abnb_detailed_data* dictionary above is significantly more detailed than the *abnb_raw_data* dictionary but not all of the information will be used for this project. Instead, it will mostly be used to compare the timeline of new Airbnbs to reported crime in the area.\n",
    "\n",
    "However, there are several considerations with the available information about the Airbnb listings. First, there is no indication of whether a host had any gaps in their operations as Airbnb host. Secondly, there are flaws to using the *host_since* datetimes to determine when the listing first opened since they could have registered as guests first, before they decided to host. The *host_since* is actually a record of when the user registered for an Airbnb account and does not differentiate between guests and hosts. The data also contains information such as the date of the first and last review. While the first review date could be a close enough substitute for when the Airbnb was first listed, there is no guarantee that the first guests wrote a review or if the Airbnb was booked close to the date it was first listed. Thus, I decided to use the *host_since* dates instead. More [assumptions](http://insideairbnb.com/data-assumptions) and [definitions](https://docs.google.com/spreadsheets/d/1iWCNJcSutYqpULSQHlNyGInUvHg2BoUGoNRIGa6Szc4/edit?usp=sharing) can be found on the *Inside Airbnb* site."
   ]
  },
  {
   "cell_type": "markdown",
   "id": "92d1d80e-379a-4b4c-a4fe-795a42a8a4a7",
   "metadata": {},
   "source": [
    "## Methodology\n",
    "\n",
    "**Which areas have the most and least Airbnbs? Crime rates?**\n",
    "To visualize this answer, I originally planned to create a [choropleth map using the Plotly API](https://plotly.com/python/mapbox-county-choropleth/). However, considering how the neighborhood data is incomplete for the *SPD Crime Data*, this may be difficult.\n",
    "\n",
    "**Which areas have the highest and lowest Airbnb ratings?**\n",
    "To visualize this answer, I plan to create a representation of the ratings using the Plotly API.\n",
    "\n",
    "**Which offense types are the most and least frequent?**\n",
    "I plan to create a [heatmap using matplotlib](https://matplotlib.org/stable/gallery/images_contours_and_fields/image_annotated_heatmap.html) that contains the monthly count of each offense type in the past year in major Seattle areas (variable name MCPP).\n",
    "\n",
    "**What is the relationship between Airbnbs and crime rates?**\n",
    "I will analyze correlation by comparing the Airbnb listings and reported crime.\n",
    "\n",
    "I also plan to use [kepler.gl for Jupyter](https://docs.kepler.gl/docs/keplergl-jupyter) for a more complex, geospatial data visualization. It will allow me to better customize the map to include the number of Airbnbs and its ratings, and the crime rates and its severity."
   ]
  },
  {
   "cell_type": "markdown",
   "id": "69af05fb-8392-45c3-a47d-9f0127634dd7",
   "metadata": {},
   "source": [
    "## Findings"
   ]
  },
  {
   "cell_type": "markdown",
   "id": "00c30001-f4bb-48cb-b5ea-392b166a810c",
   "metadata": {},
   "source": [
    "## Discussion\n",
    "### Limitations and Implications"
   ]
  },
  {
   "cell_type": "markdown",
   "id": "6ce2537c-192d-4666-a79e-d7160190d69d",
   "metadata": {},
   "source": [
    "## Conclusion"
   ]
  }
 ],
 "metadata": {
  "kernelspec": {
   "display_name": "Python 3 (ipykernel)",
   "language": "python",
   "name": "python3"
  },
  "language_info": {
   "codemirror_mode": {
    "name": "ipython",
    "version": 3
   },
   "file_extension": ".py",
   "mimetype": "text/x-python",
   "name": "python",
   "nbconvert_exporter": "python",
   "pygments_lexer": "ipython3",
   "version": "3.9.7"
  }
 },
 "nbformat": 4,
 "nbformat_minor": 5
}
